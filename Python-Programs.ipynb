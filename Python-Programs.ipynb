{
  "nbformat": 4,
  "nbformat_minor": 0,
  "metadata": {
    "colab": {
      "provenance": [],
      "authorship_tag": "ABX9TyPH7hAug7Enm3VzO2FGfg3p",
      "include_colab_link": true
    },
    "kernelspec": {
      "name": "python3",
      "display_name": "Python 3"
    },
    "language_info": {
      "name": "python"
    }
  },
  "cells": [
    {
      "cell_type": "markdown",
      "metadata": {
        "id": "view-in-github",
        "colab_type": "text"
      },
      "source": [
        "<a href=\"https://colab.research.google.com/github/nadeem53/python-Programs/blob/main/Python-Programs.ipynb\" target=\"_parent\"><img src=\"https://colab.research.google.com/assets/colab-badge.svg\" alt=\"Open In Colab\"/></a>"
      ]
    },
    {
      "cell_type": "markdown",
      "source": [
        "# **Assignment no 2**"
      ],
      "metadata": {
        "id": "X5aVElZvOoG1"
      }
    },
    {
      "cell_type": "markdown",
      "source": [
        "1- A program that takes a string as input and counts the number of vowels and\n",
        "consonants in the string.\n",
        "\n",
        "Input: Hello, World!\n",
        "\n",
        "Output:\n",
        "\n",
        "Number of vowels: 3\n",
        "\n",
        "Number of consonants: 7"
      ],
      "metadata": {
        "id": "Vxx4kzp9KkKe"
      }
    },
    {
      "cell_type": "code",
      "execution_count": null,
      "metadata": {
        "id": "f_TfjNk2KTms",
        "colab": {
          "base_uri": "https://localhost:8080/"
        },
        "outputId": "f9b291c6-dada-4882-dc86-21afb7ea5096"
      },
      "outputs": [
        {
          "output_type": "stream",
          "name": "stdout",
          "text": [
            "Enter word here : Hello, World!\n",
            "Number of vowels: 3\n",
            "Number of consonants: 7\n"
          ]
        }
      ],
      "source": [
        "# create a function\n",
        "def count_vowels_consonants(text):\n",
        "\n",
        "# vowels & consonants\n",
        "  vowels = \"aeiou\"\n",
        "  consonants = \"bcdfghjklmnpqrstvwxyz\"\n",
        "  vowel_count = 0\n",
        "  consonant_count = 0\n",
        "\n",
        "  for x in text.lower():\n",
        "    if x in vowels:\n",
        "      vowel_count += 1\n",
        "    elif x in consonants:\n",
        "      consonant_count += 1\n",
        "\n",
        "  return {\"vowels\": vowel_count, \"consonants\": consonant_count}\n",
        "# Get any word from user\n",
        "text = input(\"Enter word here : \")\n",
        "result = count_vowels_consonants(text)\n",
        "# show output\n",
        "print(f\"Number of vowels: {result['vowels']}\")\n",
        "print(f\"Number of consonants: {result['consonants']}\")\n"
      ]
    },
    {
      "cell_type": "markdown",
      "source": [
        "2.A Python program that accepts a filename from the user and prints the extension\n",
        "of the file.\n",
        "\n",
        "Sample filename: document.docx"
      ],
      "metadata": {
        "id": "gPJNtsYVHySc"
      }
    },
    {
      "cell_type": "code",
      "source": [
        "# create a function\n",
        "def get_file_extension(filename):\n",
        " # Split the filename by the last dot \".\"\n",
        "  parts = filename.split(\".\")\n",
        "\n",
        "  # Check if there are parts after the split\n",
        "  if len(parts) > 1:\n",
        "    # Return the last part (extension)\n",
        "    return parts[-1]\n",
        "  else:\n",
        "    # No extension found, return empty string\n",
        "    return \"\"\n",
        "\n",
        "# Get the filename from the user\n",
        "filename = input(\"Enter a filename: \")\n",
        "\n",
        "# Get the extension using the function\n",
        "extension = get_file_extension(filename)\n",
        "\n",
        "# Print the extension\n",
        "print(\"The extension of the file is:\", extension)\n"
      ],
      "metadata": {
        "id": "pJgHXomC7eRo",
        "colab": {
          "base_uri": "https://localhost:8080/"
        },
        "outputId": "23295b42-04c6-4fb7-bdd9-2c66c713bb4b"
      },
      "execution_count": null,
      "outputs": [
        {
          "output_type": "stream",
          "name": "stdout",
          "text": [
            "Enter a filename: document.docx\n",
            "The extension of the file is: docx\n"
          ]
        }
      ]
    },
    {
      "cell_type": "markdown",
      "source": [
        "3.A Python program to check if value 200 exists in the following dictionary.\n",
        "\n",
        "Sample_dict = {'a': 100, 'b': 200, 'c': 300}"
      ],
      "metadata": {
        "id": "usU_GIyAKM-7"
      }
    },
    {
      "cell_type": "code",
      "source": [
        "Sample_dict = {'a': 100, 'b': 200, 'c': 300}\n",
        "\n",
        "# check if the value 200 exists in the dictionary\n",
        "if 200 in Sample_dict.values():\n",
        "  print(\"Yes, the value 200 exists in the dictinary.\")\n",
        "else:\n",
        "  print(\"No, the value 200 does not exist in the dictionary.\")"
      ],
      "metadata": {
        "colab": {
          "base_uri": "https://localhost:8080/"
        },
        "id": "yKJgS7iHK_M8",
        "outputId": "2cea8d3c-8212-4948-8834-85662400402c"
      },
      "execution_count": null,
      "outputs": [
        {
          "output_type": "stream",
          "name": "stdout",
          "text": [
            "Yes, the value 200 exists in the dictinary.\n"
          ]
        }
      ]
    },
    {
      "cell_type": "markdown",
      "source": [
        "4.The given tuple is a nested tuple. A Python program to print the value 20.\n",
        "\n",
        "tuple1 = (\"Orange\", [10, 20, 30], (5, 15, 25))"
      ],
      "metadata": {
        "id": "Vl0moftSMdj9"
      }
    },
    {
      "cell_type": "code",
      "source": [
        "tuple1 = (\"Orange\", [10, 20, 30], (5, 15, 25))\n",
        "\n",
        "# Access the nested list and print the value 20\n",
        "print(tuple1[1][1])"
      ],
      "metadata": {
        "colab": {
          "base_uri": "https://localhost:8080/"
        },
        "id": "VyaScU5TNE1J",
        "outputId": "22980948-b37d-444c-abdf-aadbd5d45c45"
      },
      "execution_count": null,
      "outputs": [
        {
          "output_type": "stream",
          "name": "stdout",
          "text": [
            "20\n"
          ]
        }
      ]
    },
    {
      "cell_type": "markdown",
      "source": [
        "5.A Python program that calculates the Body Mass Index (BMI) for a person\n",
        "based on their weight (in kilograms) and height (in meters). The BMI is calculated\n",
        "using the following formula:\n",
        "\n",
        "BMI = (weight) / (height^2)\n",
        "\n",
        "Instructions:\n",
        "\n",
        "● Prompt the user to enter their weight in kilograms.\n",
        "\n",
        "● Prompt the user to enter their height in meters.\n",
        "\n",
        "● Calculate the BMI using the provided formula.\n",
        "\n",
        "● Display the calculated BMI to the user.\n",
        "\n",
        "Additionally, provide an interpretation of the BMI according to the\n",
        "following categories:\n",
        "\n",
        "● BMI < 18.5: Underweight\n",
        "\n",
        "● 18.5 <= BMI < 25: Normal weight\n",
        "\n",
        "● 25 <= BMI < 30: Overweight\n",
        "\n",
        "● BMI >= 30: Obese"
      ],
      "metadata": {
        "id": "R3pcw5l_NgHo"
      }
    },
    {
      "cell_type": "code",
      "source": [
        "# create a function\n",
        "def calculate_bmi(weight, height):\n",
        "  return weight / height**2\n",
        "\n",
        "def interpret_bmi(bmi):\n",
        "\n",
        "  if bmi < 18.5:\n",
        "    return \"Underweight\"\n",
        "  elif 18.5 <= bmi <25:\n",
        "    return \"Normal weight\"\n",
        "  elif 25 <= bmi < 30:\n",
        "    return \"Overweight\"\n",
        "  else:\n",
        "    return \"Obese\"\n",
        "# Get user input\n",
        "weight = float(input(\"Enter your weight in kilograms:  \"))\n",
        "height = float(input(\"Enter your height in meters:  \"))\n",
        "\n",
        "# Calculate and interpret BMI\n",
        "bmi = calculate_bmi(weight, height)\n",
        "bmi_interpretation = interpret_bmi(bmi)\n",
        "\n",
        "print(\"Your BMI is:\", bmi)\n",
        "print(\"Interpretation:\", bmi_interpretation)\n",
        "\n",
        "\n",
        "\n"
      ],
      "metadata": {
        "colab": {
          "base_uri": "https://localhost:8080/"
        },
        "id": "jocjgOhFOJut",
        "outputId": "0b8fc8c1-f9e2-444e-a58f-48e5c2d18afb"
      },
      "execution_count": null,
      "outputs": [
        {
          "output_type": "stream",
          "name": "stdout",
          "text": [
            "Enter your weight in kilograms:  72\n",
            "Enter your height in meters:  177\n",
            "Your BMI is: 0.002298190175237001\n",
            "Interpretation: Underweight\n"
          ]
        }
      ]
    },
    {
      "cell_type": "markdown",
      "source": [
        "6.A Python program that prompts the user to input a string. The program\n",
        "should count the frequency of each character in the string and then print the result\n",
        "as a dictionary.\n",
        "\n",
        "EXAMPLE: If the user enters \"hello\" , the program should output {'h': 1, 'e': 1, 'l': 2, 'o': 1}\n",
        "\n",
        "indicating that 'h' appears once, 'e' appears once, 'l' appears twice, and 'o' appears\n",
        "once in the input string."
      ],
      "metadata": {
        "id": "otXLYhIsUM6D"
      }
    },
    {
      "cell_type": "code",
      "source": [
        "def char_frequency(string):\n",
        "\n",
        "  char_counts = {}\n",
        "  for char in string:\n",
        "    if char in char_counts:\n",
        "      char_counts[char] += 1\n",
        "    else:\n",
        "      char_counts[char] = 1\n",
        "  return char_counts\n",
        "\n",
        "# Get string from user\n",
        "string = input(\"Enter a string here : \")\n",
        "char_counts = char_frequency(string)\n",
        "print(char_counts)  # Output: {'h': 1, 'e': 1, 'l': 2, 'o': 1}\n"
      ],
      "metadata": {
        "id": "L8WQi2QnUNHQ",
        "colab": {
          "base_uri": "https://localhost:8080/"
        },
        "outputId": "3d38d800-92cf-469b-e771-b2354441ad3e"
      },
      "execution_count": null,
      "outputs": [
        {
          "output_type": "stream",
          "name": "stdout",
          "text": [
            "Enter a string here : hello\n",
            "{'h': 1, 'e': 1, 'l': 2, 'o': 1}\n"
          ]
        }
      ]
    },
    {
      "cell_type": "markdown",
      "source": [
        "7.Write a Python program that takes a string input from the user and checks if it is a valid\n",
        "email address. If it is valid, print \"Valid email address\", otherwise print \"Invalid email\n",
        "address\".\n",
        "\n",
        "Hint: Check if the string contains “@” and ends with “.net”, or “.com” to check\n",
        "validity. Example: If the email is “abc@example.com”, then it is a valid email,\n",
        "otherwise an Invalid email."
      ],
      "metadata": {
        "id": "6KJ4XzOEag7L"
      }
    },
    {
      "cell_type": "code",
      "source": [
        "# create a function valid email\n",
        "def valid_email(email):\n",
        "# Use if else statement and given the all conditions like @, .com,.net\n",
        "\n",
        "    if '@' in email and (email.endswith('.com') or email.endswith('.net')):\n",
        "        return True\n",
        "    else:\n",
        "        return False\n",
        "# create another function\n",
        "def main():\n",
        "# get input from user\n",
        "    email = input(\"Enter an email address: \")\n",
        "# use if else statement and print output\n",
        "    if valid_email(email):\n",
        "        print(\"Valid email address\")\n",
        "    else:\n",
        "        print(\"Invalid email address\")\n",
        "\n",
        "if __name__ == \"__main__\":\n",
        "    main()"
      ],
      "metadata": {
        "id": "t5lB_OitahfA"
      },
      "execution_count": null,
      "outputs": []
    },
    {
      "cell_type": "markdown",
      "source": [
        "8.Given a tuple of tuples, write a Python program to print the sum of the elements\n",
        "in each inner tuple. (5 marks)\n",
        "\n",
        "Input: ((1, 2, 3), (4, 5, 6), (7, 8, 9))\n",
        "\n",
        "Output: 6, 15, 24"
      ],
      "metadata": {
        "id": "mR0fYiKgV3QM"
      }
    },
    {
      "cell_type": "code",
      "source": [
        "# create function\n",
        "def main():\n",
        "    input_tuples = ((1, 2, 3), (4, 5, 6), (7, 8, 9))\n",
        "    result = [sum(inner_tuple) for inner_tuple in input_tuples]\n",
        "    print(\"Output:\", ', '.join(map(str, result)))\n",
        "\n",
        "if __name__ == \"__main__\":\n",
        "    main()\n"
      ],
      "metadata": {
        "id": "IDeNRys-OBJl"
      },
      "execution_count": null,
      "outputs": []
    },
    {
      "cell_type": "markdown",
      "source": [
        "9. Create a list containing the 10 numbers . Print the first Three prime numbers from\n",
        "the list.\n",
        "\n",
        "Expected Output: List of the first three prime numbers: [2, 3, 5]"
      ],
      "metadata": {
        "id": "A7TsKcxSo424"
      }
    },
    {
      "cell_type": "code",
      "source": [
        "def is_prime(num):\n",
        "\n",
        "    if num <= 1:\n",
        "        return False\n",
        "    for i in range(2, int(num**0.5) + 1):\n",
        "        if num % i == 0:\n",
        "            return False\n",
        "    return True\n",
        "# Create list of numbers from 1 to 10\n",
        "numbers = list(range(1, 11))\n",
        "# Filter prime numbers\n",
        "prime_numbers = [num for num in numbers if is_prime(num)]\n",
        "# output\n",
        "print(\"List of the first three prime numbers:\", prime_numbers[:3])"
      ],
      "metadata": {
        "id": "Tm_mshuFWIFI",
        "colab": {
          "base_uri": "https://localhost:8080/"
        },
        "outputId": "43c14235-8e3d-40ad-9586-649ee34803b2"
      },
      "execution_count": null,
      "outputs": [
        {
          "output_type": "stream",
          "name": "stdout",
          "text": [
            "List of the first three prime numbers: [2, 3, 5]\n"
          ]
        }
      ]
    },
    {
      "cell_type": "markdown",
      "source": [
        "10.Given a list of dictionaries representing students' information (name, age, grade),\n",
        "Write a Python program to sort the students based on their grades in descending\n",
        "order and print the sorted list.\n",
        "\n",
        "Dictionary: [\n",
        "\n",
        "{\"name\": \"John\", \"age\": 20, \"grade\": 85},\n",
        "\n",
        "{\"name\": \"Alice\", \"age\": 22, \"grade\": 90},\n",
        "\n",
        "{\"name\": \"Bob\", \"age\": 21, \"grade\": 80}\n",
        "]"
      ],
      "metadata": {
        "id": "0ostkh25jEnp"
      }
    },
    {
      "cell_type": "code",
      "source": [
        "# the list of student dictionaries\n",
        "students = [\n",
        "    {\"name\": \"John\", \"age\": 20, \"grade\": 85},\n",
        "    {\"name\": \"Alice\", \"age\": 22, \"grade\": 90},\n",
        "    {\"name\": \"Bob\", \"age\": 21, \"grade\": 80}\n",
        "]\n",
        "\n",
        "# Define a function to sort by grade in descending order\n",
        "def sort_by_grade(student):\n",
        "    return student[\"grade\"] * -1\n",
        "\n",
        "# Sort the list of students using the custom key function\n",
        "sorted_students = sorted(students, key=sort_by_grade)\n",
        "\n",
        "# Print the sorted list of students\n",
        "for student in sorted_students:\n",
        "    print(f\"Name: {student['name']}, Age: {student['age']}, Grade: {student['grade']}\")\n"
      ],
      "metadata": {
        "colab": {
          "base_uri": "https://localhost:8080/"
        },
        "id": "KNV26ZWIjFSK",
        "outputId": "b80bb0aa-4a7f-4c20-e165-7fc85887f3b3"
      },
      "execution_count": null,
      "outputs": [
        {
          "output_type": "stream",
          "name": "stdout",
          "text": [
            "Name: Alice, Age: 22, Grade: 90\n",
            "Name: John, Age: 20, Grade: 85\n",
            "Name: Bob, Age: 21, Grade: 80\n"
          ]
        }
      ]
    },
    {
      "cell_type": "markdown",
      "source": [
        "11. Create a program that takes a list of multiple numbers separated with commas (,) from\n",
        "the user and finds the total number of unique values in the list and also prints them.\n",
        "\n",
        "Expected_format:\n",
        "\n",
        "Total number of unique values: 6\n",
        "\n",
        "Unique values in the list: [1, 2, 3, 4, 5, 6]"
      ],
      "metadata": {
        "id": "5eISZkRTFgQ0"
      }
    },
    {
      "cell_type": "code",
      "source": [
        "# Get a comma-separated list of numbers from the user\n",
        "numbers_string = input(\"Enter a list of numbers separated by commas: \")\n",
        "\n",
        "# Split the string into a list of numbers\n",
        "numbers_list = [int(num) for num in numbers_string.split(\",\")]\n",
        "\n",
        "# Create a set to efficiently remove duplicates and get unique values\n",
        "unique_numbers_set = set(numbers_list)\n",
        "\n",
        "# Print the total number of unique values\n",
        "print(\"Total number of unique values:\", len(unique_numbers_set))\n",
        "\n",
        "# Convert the set back to a list to preserve order and print the unique values\n",
        "unique_numbers_list = list(unique_numbers_set)\n",
        "print(\"Unique values in the list:\", unique_numbers_list)\n"
      ],
      "metadata": {
        "id": "k-8nYHlIFg6Q"
      },
      "execution_count": null,
      "outputs": []
    },
    {
      "cell_type": "markdown",
      "source": [
        "12.Write a program that takes two lists as input and returns a new list containing elements\n",
        "that are common to both lists.(Hint: Use list methods to implement this.)\n",
        "\n",
        "Input Lists:\n",
        "\n",
        "List 1: [1, 2, 3, 4, 5]\n",
        "\n",
        "List 2: [4, 5, 6, 7, 8]\n",
        "\n",
        "Common Elements: [4, 5]"
      ],
      "metadata": {
        "id": "MUUtxUoa70Ru"
      }
    },
    {
      "cell_type": "code",
      "source": [
        "def find_common_elements(list1, list2):\n",
        "\n",
        "    common_elements = []\n",
        "    for element in list1:\n",
        "        if element in list2:\n",
        "            common_elements.append(element)\n",
        "    return common_elements\n",
        "\n",
        "# Input lists from the user as coma sepreated\n",
        "list1 = input(\"Enter elements of list 1 separated by comma: \").split(',')\n",
        "list2 = input(\"Enter elements of list 2 separated by comma: \").split(',')\n",
        "\n",
        "# Convert input elements to integers (assuming the input is numeric)\n",
        "list1 = [int(x) for x in list1]\n",
        "list2 = [int(x) for x in list2]\n",
        "\n",
        "# Find common elements\n",
        "common_elements = find_common_elements(list1, list2)\n",
        "\n",
        "# Output common elements\n",
        "print(\"Common Elements:\", common_elements)"
      ],
      "metadata": {
        "id": "c21QiONL72Mc"
      },
      "execution_count": null,
      "outputs": []
    },
    {
      "cell_type": "markdown",
      "source": [
        "13.Write a program that takes two dictionaries as input and merges them into a new\n",
        "dictionary. If there are common keys, combine their values.\n",
        "\n",
        "dict1= {‘a’:5, ‘b’:10, ‘c’:15}\n",
        "\n",
        "dict2= {‘b’:20, ‘c’:25, ‘d’:30}\n",
        "\n",
        "Output: {'a': 5, 'b': 30, 'c': 40, 'd': 30}"
      ],
      "metadata": {
        "id": "Ij9GcmdsE4EB"
      }
    },
    {
      "cell_type": "code",
      "source": [
        "def merge_dicts(dict1, dict2):\n",
        "\n",
        "    merged_dict = dict(dict1)  # Initialize with dict1 to preserve its contents\n",
        "\n",
        "    for key, value in dict2.items():\n",
        "        if key in merged_dict:\n",
        "            # If the key already exists, add the value to the existing value\n",
        "            merged_dict[key] += value\n",
        "        else:\n",
        "            # If the key is new, simply add it to the merged dictionary\n",
        "            merged_dict[key] = value\n",
        "\n",
        "    return merged_dict\n",
        "\n",
        "# Input dictionaries\n",
        "dict1 = {'a': 5, 'b': 10, 'c': 15}\n",
        "dict2 = {'b': 20, 'c': 25, 'd': 30}\n",
        "\n",
        "# Merge dictionaries\n",
        "merged_dict = merge_dicts(dict1, dict2)\n",
        "\n",
        "# Output merged dictionary\n",
        "print(\"Merged Dictionary:\", merged_dict)\n"
      ],
      "metadata": {
        "id": "9SHEmfwYE21F"
      },
      "execution_count": null,
      "outputs": []
    },
    {
      "cell_type": "markdown",
      "source": [
        "14.Write a program that takes two numbers, base and exponent, and calculates the result\n",
        "of raising base to the power of exponent using the ** operator.\n",
        "\n",
        "Input: Base: 2\n",
        "\n",
        "Exponent: 3\n",
        "\n",
        "Result: 8"
      ],
      "metadata": {
        "id": "MLVbtL8iFMKl"
      }
    },
    {
      "cell_type": "code",
      "source": [
        "def power(base, exponent):\n",
        "\n",
        "    return base ** exponent\n",
        "\n",
        "# Input base and exponent from the user\n",
        "base = float(input(\"Base: \"))\n",
        "exponent = float(input(\"Exponent: \"))\n",
        "\n",
        "# Calculate result\n",
        "result = power(base, exponent)\n",
        "\n",
        "# Output result\n",
        "print(\"Result:\", result)"
      ],
      "metadata": {
        "id": "QiESlwWLFW7A"
      },
      "execution_count": null,
      "outputs": []
    },
    {
      "cell_type": "markdown",
      "source": [
        "15.Write a program that takes a temperature in Celsius as input and converts it to\n",
        "Fahrenheit using the formula.\n",
        "\n",
        "Fahrenheit = (Celsius * 9/5) + 32."
      ],
      "metadata": {
        "id": "v4rGzrvxHdrs"
      }
    },
    {
      "cell_type": "code",
      "source": [
        "def celsius_to_fahrenheit(celsius):\n",
        "\n",
        "    fahrenheit = (celsius * 9/5) + 32\n",
        "    return fahrenheit\n",
        "\n",
        "# Input temperature in Celsius from the user\n",
        "celsius = float(input(\"Enter temperature in Celsius: \"))\n",
        "\n",
        "# Convert Celsius to Fahrenheit\n",
        "fahrenheit = celsius_to_fahrenheit(celsius)\n",
        "\n",
        "# Output temperature in Fahrenheit\n",
        "print(\"Temperature in Fahrenheit:\", fahrenheit)"
      ],
      "metadata": {
        "id": "ejgfbC18HnGB"
      },
      "execution_count": null,
      "outputs": []
    },
    {
      "cell_type": "markdown",
      "source": [
        "16.Write a Python program to reverse a list without using built-in functions."
      ],
      "metadata": {
        "id": "uY1k_aC_Ivc7"
      }
    },
    {
      "cell_type": "code",
      "source": [
        "def reverse_list(input_list):\n",
        "\n",
        "    reversed_list = []\n",
        "    # Iterate through the input list in reverse order\n",
        "    for i in range(len(input_list) - 1, -1, -1):\n",
        "        reversed_list.append(input_list[i])\n",
        "    return reversed_list\n",
        "\n",
        "# Example usage:\n",
        "original_list = [1, 2, 3, 4, 5]\n",
        "reversed_list = reverse_list(original_list)\n",
        "print(\"Original List:\", original_list)\n",
        "print(\"Reversed List:\", reversed_list)"
      ],
      "metadata": {
        "id": "XjARTnCdI4am"
      },
      "execution_count": null,
      "outputs": []
    },
    {
      "cell_type": "markdown",
      "source": [
        "17.Given a string \"Hello World\", write a Python program to reverse the string without\n",
        "reversing the individual words.\n",
        "\n",
        "Expected Output: “World Hello”"
      ],
      "metadata": {
        "id": "qmC9TnvlJuAn"
      }
    },
    {
      "cell_type": "code",
      "source": [
        "def reverse_words_in_string(string):\n",
        "\n",
        "\n",
        "    # Split the string into words\n",
        "    words = string.split()\n",
        "\n",
        "    # Reverse the order of words\n",
        "    reversed_words = words[::-1]\n",
        "\n",
        "    # Join the reversed words back into a string\n",
        "    return \" \".join(reversed_words)\n",
        "\n",
        "# Example usage\n",
        "string = \"Hello World\"\n",
        "reversed_string = reverse_words_in_string(string)\n",
        "print(reversed_string)  # Output: World Hello"
      ],
      "metadata": {
        "id": "BUv-zouhJsjb"
      },
      "execution_count": null,
      "outputs": []
    },
    {
      "cell_type": "markdown",
      "source": [
        "18. Implement a Python function is_palindrome() that checks whether a passed string is a\n",
        "palindrome (reads the same forward and backward) and tests it with \"radar\"."
      ],
      "metadata": {
        "id": "vIL2BQOcKxDR"
      }
    },
    {
      "cell_type": "code",
      "source": [
        "def is_palindrome(s):\n",
        "\n",
        "    # Convert the string to lowercase to handle case-insensitive palindrome check\n",
        "    s = s.lower()\n",
        "    # Remove non-alphanumeric characters from the string\n",
        "    s = ''.join(char for char in s if char.isalnum())\n",
        "    # Compare the string with its reverse\n",
        "    return s == s[::-1]\n",
        "\n",
        "# Test the function with the string \"radar\"\n",
        "input_string = \"radar\"\n",
        "if is_palindrome(input_string):\n",
        "    print(f'\"{input_string}\" is a palindrome.')\n",
        "else:\n",
        "    print(f'\"{input_string}\" is not a palindrome.')"
      ],
      "metadata": {
        "id": "EUmRE1c0Kxqc"
      },
      "execution_count": null,
      "outputs": []
    },
    {
      "cell_type": "markdown",
      "source": [
        "19.Write a program that returns a list of even numbers from a given list.\n",
        "\n",
        "Input: [2, 5, 3, 7, 9, 53, 10, 32, 65, 76, 98]"
      ],
      "metadata": {
        "id": "3m0KR7RSNEmr"
      }
    },
    {
      "cell_type": "code",
      "source": [
        "def get_even_numbers(input_list):\n",
        "\n",
        "    even_numbers = [num for num in input_list if num % 2 == 0]\n",
        "    return even_numbers\n",
        "\n",
        "# Given input list\n",
        "input_list = [2, 5, 3, 7, 9, 53, 10, 32, 65, 76, 98]\n",
        "\n",
        "# Get the list of even numbers\n",
        "even_numbers = get_even_numbers(input_list)\n",
        "\n",
        "# Output the list of even numbers\n",
        "print(\"Even Numbers:\", even_numbers)"
      ],
      "metadata": {
        "id": "UqwYk6tfNlJO"
      },
      "execution_count": null,
      "outputs": []
    },
    {
      "cell_type": "markdown",
      "source": [
        "20.Given two lists keys = ['a', 'b', 'c'] and values = [1, 2, 3], write a Python program\n",
        "to create a dictionary from these lists.\n",
        "\n",
        "Expected Output: {'a': 1, 'b': 2, 'c': 3}"
      ],
      "metadata": {
        "id": "rgs1MAzoNvuE"
      }
    },
    {
      "cell_type": "code",
      "source": [
        "def create_dictionary(keys, values):\n",
        "\n",
        "    dictionary = dict(zip(keys, values))\n",
        "    return dictionary\n",
        "\n",
        "# Given lists\n",
        "keys = ['a', 'b', 'c']\n",
        "values = [1, 2, 3]\n",
        "\n",
        "# Create dictionary\n",
        "result_dict = create_dictionary(keys, values)\n",
        "\n",
        "# Output the dictionary\n",
        "print(\"Resulting Dictionary:\", result_dict)\n"
      ],
      "metadata": {
        "id": "wyKb0ChKOZQ3"
      },
      "execution_count": null,
      "outputs": []
    }
  ]
}